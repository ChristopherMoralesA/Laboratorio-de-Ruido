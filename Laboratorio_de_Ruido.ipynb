{
 "cells": [
  {
   "cell_type": "markdown",
   "metadata": {},
   "source": [
    "LABORATORIO VIRTUAL DE RUIDO\n",
    "\n",
    "Sistemas de Visión\n",
    "\n",
    "Carlos Jara y Christopher Morales"
   ]
  },
  {
   "cell_type": "code",
   "execution_count": 3,
   "metadata": {},
   "outputs": [
    {
     "name": "stdout",
     "output_type": "stream",
     "text": [
      "c:\\Users\\Chris\\OneDrive\\Documents\\Mecatronica TEC\\Bloque 10\\Electiva II\\Sistemas de Visión\\Laboratorio de Ruido\\Laboratorio de Ruido\n"
     ]
    }
   ],
   "source": [
    "import os\n",
    "\n",
    "#Obtener la direccion de las imagenes\n",
    "path = os.getcwd()\n",
    "print(path)"
   ]
  },
  {
   "cell_type": "code",
   "execution_count": null,
   "metadata": {},
   "outputs": [],
   "source": []
  }
 ],
 "metadata": {
  "interpreter": {
   "hash": "dc3d30e35f9f561365c468ef4bda3969a5dc759bb3240f525725481f89dcf988"
  },
  "kernelspec": {
   "display_name": "Python 3.10.2 64-bit",
   "language": "python",
   "name": "python3"
  },
  "language_info": {
   "codemirror_mode": {
    "name": "ipython",
    "version": 3
   },
   "file_extension": ".py",
   "mimetype": "text/x-python",
   "name": "python",
   "nbconvert_exporter": "python",
   "pygments_lexer": "ipython3",
   "version": "3.10.2"
  },
  "orig_nbformat": 4
 },
 "nbformat": 4,
 "nbformat_minor": 2
}
