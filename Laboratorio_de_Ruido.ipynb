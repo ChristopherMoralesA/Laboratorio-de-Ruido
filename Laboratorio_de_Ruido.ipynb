{
 "cells": [
  {
   "cell_type": "markdown",
   "metadata": {},
   "source": [
    "LABORATORIO VIRTUAL DE RUIDO\n",
    "\n",
    "Sistemas de Visión\n",
    "\n",
    "Carlos Jara y Christopher Morales"
   ]
  },
  {
   "cell_type": "markdown",
   "metadata": {},
   "source": []
  }
 ],
 "metadata": {
  "language_info": {
   "name": "python"
  },
  "orig_nbformat": 4
 },
 "nbformat": 4,
 "nbformat_minor": 2
}
